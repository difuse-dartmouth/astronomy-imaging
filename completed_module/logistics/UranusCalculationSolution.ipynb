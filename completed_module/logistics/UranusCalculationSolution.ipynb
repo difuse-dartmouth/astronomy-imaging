{
  "nbformat": 4,
  "nbformat_minor": 0,
  "metadata": {
    "colab": {
      "provenance": []
    },
    "kernelspec": {
      "name": "python3",
      "display_name": "Python 3"
    },
    "language_info": {
      "name": "python"
    }
  },
  "cells": [
    {
      "cell_type": "code",
      "execution_count": null,
      "metadata": {
        "id": "l0Wkfi5hgtaB"
      },
      "outputs": [],
      "source": [
        "import numpy as np\n",
        "\n",
        "# *************\n",
        "# SOLUTION\n",
        "\n",
        "# Kepler's Third Law Gives that T^2/a^3 = 4*pi^2/(G*(M+m))\n",
        "# the mass of the moons is small so m --> 0 and therefore\n",
        "# T^2/a^3 ~ 4*pi^2/(G*M)\n",
        "\n",
        "# Solving for M\n",
        "\n",
        "# T is the period of sine wave we fit (2pi/frequency)\n",
        "  # The code outputs the period, so students don't need to convert between f and T\n",
        "  # this example includes the conversion just in case\n",
        "# a is the amplitude of the sine wave we fit, but we need to convert this from degrees to meters\n",
        "\n",
        "f_0_1 = 0.466 # for Moon 1, taken as an example\n",
        "f_0_2 = 0.721 # for Moon 2, taken as an example\n",
        "\n",
        "T_t_1 = 2*np.pi/f_0_1 # make it a period of days\n",
        "T_t_2 = 2*np.pi/f_0_2\n",
        "\n",
        "T_0_1 = (T_t_1)*24*3600 # to seconds\n",
        "T_0_2 = (T_t_2)*24*3600\n",
        "\n",
        "a_d_1 = np.deg2rad(0.01) # in degrees, converted to rad, M1, average of 0.009 and 0.011\n",
        "a_d_2 = np.deg2rad(0.0075) # in degrees, converted to rad, M2, average of 0.007 and 0.008\n",
        "\n",
        "G = 6.674*10**-11 # in m^3 kg^-1 s^-2\n",
        "\n",
        "d_0 = 19.2 # in AU\n",
        "d_1 = d_0*149597870691 # convert to meters\n",
        "# d_1 is the side length of the isosceles triangle formed by Uranus, one moon, and Earth\n",
        "\n",
        "# law of cosines states: \n",
        "# a^2 = b^2 + c^2 - 2bc*cos(alpha)\n",
        "# our triangle is formed by the lines connecting Uranus, one of its moons, and earth.\n",
        "# we have the distance from earth to uranus, and the distance from earth to Uranus' moon,\n",
        "# and the angle between uranus and its moon as observed from Earth\n",
        "\n",
        "a_m_1 = np.sqrt(d_1**2 + d_1**2 - 2*d_1**2*np.cos(a_d_1))\n",
        "a_m_2 = np.sqrt(d_1**2 + d_1**2 - 2*d_1**2*np.cos(a_d_2))\n",
        "\n",
        "# apply kepler's law\n",
        "m_uranus_1 = ((4*np.pi**2)*a_m_1**3)/(G*T_0_1**2)\n",
        "m_uranus_2 = ((4*np.pi**2)*a_m_2**3)/(G*T_0_2**2)\n",
        "\n",
        "m_uranus = np.mean([m_uranus_1, m_uranus_2])\n",
        "\n",
        "# *************"
      ]
    }
  ]
}